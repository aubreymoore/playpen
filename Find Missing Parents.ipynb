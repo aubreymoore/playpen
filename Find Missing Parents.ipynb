{
 "cells": [
  {
   "cell_type": "markdown",
   "metadata": {},
   "source": [
    "# Finding Missing Parents in a Child-Parent Self-Referencing Table"
   ]
  },
  {
   "cell_type": "code",
   "execution_count": 1,
   "metadata": {
    "collapsed": false
   },
   "outputs": [],
   "source": [
    "import pymysql\n",
    "from sqlalchemy import *\n",
    "import getpass"
   ]
  },
  {
   "cell_type": "markdown",
   "metadata": {},
   "source": [
    "## Pattern: Find items in one list which does not occur in a second list"
   ]
  },
  {
   "cell_type": "code",
   "execution_count": 2,
   "metadata": {
    "collapsed": false
   },
   "outputs": [
    {
     "data": {
      "text/plain": [
       "['m', 'f']"
      ]
     },
     "execution_count": 2,
     "metadata": {},
     "output_type": "execute_result"
    }
   ],
   "source": [
    "# To find parent_tids which do not have corresponding tids,\n",
    "# convert lists to sets and calculate the difference.\n",
    "\n",
    "tid = [\"a\", \"b\", \"c\", \"d\", \"e\"]\n",
    "parent_tid = [\"a\", \"f\", \"c\", \"m\"]\n",
    "list(set(parent_tid) - set(tid))"
   ]
  },
  {
   "cell_type": "markdown",
   "metadata": {},
   "source": [
    "## Repeat using data from database"
   ]
  },
  {
   "cell_type": "code",
   "execution_count": 3,
   "metadata": {
    "collapsed": false
   },
   "outputs": [
    {
     "name": "stdout",
     "output_type": "stream",
     "text": [
      "Database password: ········\n"
     ]
    }
   ],
   "source": [
    "password = getpass.getpass('Database password: ')"
   ]
  },
  {
   "cell_type": "code",
   "execution_count": 4,
   "metadata": {
    "collapsed": false
   },
   "outputs": [],
   "source": [
    "s = 'mysql+pymysql://aubreymoore:{}@localhost/pestlist'.format(password)\n",
    "db = create_engine(s)"
   ]
  },
  {
   "cell_type": "code",
   "execution_count": 5,
   "metadata": {
    "collapsed": false
   },
   "outputs": [],
   "source": [
    "rs = db.execute(\"select tid, parent_tid from taxon2;\")\n",
    "tid_list = []\n",
    "parent_tid_list = []\n",
    "for r in rs:\n",
    "    tid_list.append(r.tid)\n",
    "    parent_tid_list.append(r.parent_tid)"
   ]
  },
  {
   "cell_type": "code",
   "execution_count": 6,
   "metadata": {
    "collapsed": false
   },
   "outputs": [
    {
     "data": {
      "text/plain": [
       "['6',\n",
       " '7707728',\n",
       " '196',\n",
       " '1169',\n",
       " '7683',\n",
       " '2766430',\n",
       " '2766636',\n",
       " '220',\n",
       " '407',\n",
       " '6688']"
      ]
     },
     "execution_count": 6,
     "metadata": {},
     "output_type": "execute_result"
    }
   ],
   "source": [
    "tid_list[:10]"
   ]
  },
  {
   "cell_type": "code",
   "execution_count": 7,
   "metadata": {
    "collapsed": false
   },
   "outputs": [
    {
     "data": {
      "text/plain": [
       "['#',\n",
       " '6',\n",
       " '7707728',\n",
       " '196',\n",
       " '1169',\n",
       " '7683',\n",
       " '2766430',\n",
       " '7707728',\n",
       " '220',\n",
       " '407']"
      ]
     },
     "execution_count": 7,
     "metadata": {},
     "output_type": "execute_result"
    }
   ],
   "source": [
    "parent_tid_list[:10]"
   ]
  },
  {
   "cell_type": "code",
   "execution_count": 8,
   "metadata": {
    "collapsed": false
   },
   "outputs": [
    {
     "data": {
      "text/plain": [
       "['2002379', '#', '1890281']"
      ]
     },
     "execution_count": 8,
     "metadata": {},
     "output_type": "execute_result"
    }
   ],
   "source": [
    "missing_parents = list(set(parent_tid_list) - set(tid_list))\n",
    "missing_parents"
   ]
  },
  {
   "cell_type": "markdown",
   "metadata": {},
   "source": [
    "## Results\n",
    "\n",
    "There are two missing parent_tids. Note that '#' is the parent of root nodes, so this is OK.\n",
    "\n",
    "A constraint needs to be added to the **taxon2** table to prevent entry of a **parent_tid** which does not match an existing **tid**."
   ]
  }
 ],
 "metadata": {
  "kernelspec": {
   "display_name": "Python 2",
   "language": "python",
   "name": "python2"
  },
  "language_info": {
   "codemirror_mode": {
    "name": "ipython",
    "version": 2
   },
   "file_extension": ".py",
   "mimetype": "text/x-python",
   "name": "python",
   "nbconvert_exporter": "python",
   "pygments_lexer": "ipython2",
   "version": "2.7.13"
  }
 },
 "nbformat": 4,
 "nbformat_minor": 0
}
