{
 "cells": [
  {
   "cell_type": "code",
   "execution_count": 1,
   "metadata": {
    "collapsed": true
   },
   "outputs": [],
   "source": [
    "data = []"
   ]
  },
  {
   "cell_type": "code",
   "execution_count": 2,
   "metadata": {
    "collapsed": true
   },
   "outputs": [],
   "source": [
    "data.append({'name':'Coleoptera','trank':'order','lineage':'Animalia|Arthropoda|Insecta|Coleoptera'})\n",
    "data.append({'name':'Curculionidae','trank':'family','lineage':'Animalia|Arthropoda|Insecta|Coleoptera|Curculionidae'})\n",
    "data.append({'name':'Trigonops','trank':'genus','lineage':'Animalia|Arthropoda|Insecta|Coleoptera|Curculionidae|Trigonops'})\n",
    "data.append({'name':'Chrysomelidae','trank':'family','lineage':'Animalia|Arthropoda|Insecta|Coleoptera|Chrysomelidae'})\n",
    "data.append({'name':'Phytorus','trank':'genus','lineage':'Animalia|Arthropoda|Insecta|Coleoptera|Chrysomelidae|Phytorus'})"
   ]
  },
  {
   "cell_type": "code",
   "execution_count": 3,
   "metadata": {
    "collapsed": false
   },
   "outputs": [
    {
     "data": {
      "text/plain": [
       "[{'lineage': 'Animalia|Arthropoda|Insecta|Coleoptera',\n",
       "  'name': 'Coleoptera',\n",
       "  'trank': 'order'},\n",
       " {'lineage': 'Animalia|Arthropoda|Insecta|Coleoptera|Curculionidae',\n",
       "  'name': 'Curculionidae',\n",
       "  'trank': 'family'},\n",
       " {'lineage': 'Animalia|Arthropoda|Insecta|Coleoptera|Curculionidae|Trigonops',\n",
       "  'name': 'Trigonops',\n",
       "  'trank': 'genus'},\n",
       " {'lineage': 'Animalia|Arthropoda|Insecta|Coleoptera|Chrysomelidae',\n",
       "  'name': 'Chrysomelidae',\n",
       "  'trank': 'family'},\n",
       " {'lineage': 'Animalia|Arthropoda|Insecta|Coleoptera|Chrysomelidae|Phytorus',\n",
       "  'name': 'Phytorus',\n",
       "  'trank': 'genus'}]"
      ]
     },
     "execution_count": 3,
     "metadata": {},
     "output_type": "execute_result"
    }
   ],
   "source": [
    "data"
   ]
  },
  {
   "cell_type": "code",
   "execution_count": 4,
   "metadata": {
    "collapsed": true
   },
   "outputs": [],
   "source": [
    "level_dict = {'kingdom': 1, 'phylum': 2, 'class': 3, 'order': 3, 'family': 4, 'genus': 5, 'species': 6}"
   ]
  },
  {
   "cell_type": "code",
   "execution_count": null,
   "metadata": {
    "collapsed": true
   },
   "outputs": [],
   "source": [
    "\n",
    "for d in data:\n",
    "    "
   ]
  },
  {
   "cell_type": "code",
   "execution_count": null,
   "metadata": {
    "collapsed": true
   },
   "outputs": [],
   "source": [
    "target = {t: {'name': 'Coleoptera', 'trank': 'order'} }"
   ]
  },
  {
   "cell_type": "raw",
   "metadata": {},
   "source": [
    "$('#using_json_2').jstree({ 'core' : {\n",
    "    'data' : [\n",
    "       { \"id\" : \"ajson1\", \"parent\" : \"#\", \"text\" : \"Simple root node\" },\n",
    "       { \"id\" : \"ajson2\", \"parent\" : \"#\", \"text\" : \"Root node 2\" },\n",
    "       { \"id\" : \"ajson3\", \"parent\" : \"ajson2\", \"text\" : \"Child 1\" },\n",
    "       { \"id\" : \"ajson4\", \"parent\" : \"ajson2\", \"text\" : \"Child 2\" },\n",
    "    ]\n",
    "} });"
   ]
  }
 ],
 "metadata": {
  "kernelspec": {
   "display_name": "Python 2",
   "language": "python",
   "name": "python2"
  },
  "language_info": {
   "codemirror_mode": {
    "name": "ipython",
    "version": 2
   },
   "file_extension": ".py",
   "mimetype": "text/x-python",
   "name": "python",
   "nbconvert_exporter": "python",
   "pygments_lexer": "ipython2",
   "version": "2.7.13"
  }
 },
 "nbformat": 4,
 "nbformat_minor": 0
}
