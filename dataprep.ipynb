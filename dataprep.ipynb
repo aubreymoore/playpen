{
 "cells": [
  {
   "cell_type": "code",
   "execution_count": 1,
   "metadata": {
    "collapsed": true
   },
   "outputs": [],
   "source": [
    "import pandas as pd\n",
    "from sqlalchemy import create_engine\n",
    "import getpass\n",
    "\n",
    "pd.options.display.max_rows = 4"
   ]
  },
  {
   "cell_type": "markdown",
   "metadata": {},
   "source": [
    "### Connect to databases.\n",
    "\n",
    "MySQL is the old database hosted on Dreamhost.\n",
    "\n",
    "Postgres is the new database on localhost."
   ]
  },
  {
   "cell_type": "code",
   "execution_count": 2,
   "metadata": {},
   "outputs": [
    {
     "name": "stdout",
     "output_type": "stream",
     "text": [
      "Database password: ········\n"
     ]
    }
   ],
   "source": [
    "password = getpass.getpass('Database password: ')"
   ]
  },
  {
   "cell_type": "code",
   "execution_count": 3,
   "metadata": {},
   "outputs": [
    {
     "name": "stdout",
     "output_type": "stream",
     "text": [
      "postgres\n",
      "[u'name', u'auth_event', u'auth_membership', u'auth_permission', u'auth_user', u'bugwood', u'auth_cas', u'factsheet', u'pacific_pests', u'syn', u'synonym2', u'vernacular', u'name_type', u'image', u'biblio', u'biblio_type', u'associate', u'geo', u'geo_biblio', u'distribution', u'taxon', u'auth_group']\n",
      "\n",
      "mysql\n",
      "[u'associate2', u'auth_cas', u'auth_event', u'auth_group', u'auth_membership', u'auth_permission', u'auth_user', u'bugwood', u'extracted_names', u'factsheet', u'geo', u'location_recode', u'pacific_pests', u'resolved_names', u'syn', u'synonym2', u'taxon2', u'vernacular']\n"
     ]
    }
   ],
   "source": [
    "engine_postgres = create_engine('postgres://aubreymoore:{}@localhost/import_test'.format(password))\n",
    "engine_mysql = create_engine('mysql+pymysql://aubreymoore:{}@mysql.guaminsects.net/pestlist'.format(password))\n",
    "\n",
    "print 'postgres'\n",
    "print engine_postgres.table_names()\n",
    "print\n",
    "print 'mysql'\n",
    "print engine_mysql.table_names()\n",
    "#pd.read_sql_table('taxon', engine)"
   ]
  },
  {
   "cell_type": "markdown",
   "metadata": {},
   "source": [
    "### Create a csv import file for the **associate** table."
   ]
  },
  {
   "cell_type": "code",
   "execution_count": 4,
   "metadata": {},
   "outputs": [
    {
     "data": {
      "text/html": [
       "<div>\n",
       "<table border=\"1\" class=\"dataframe\">\n",
       "  <thead>\n",
       "    <tr style=\"text-align: right;\">\n",
       "      <th></th>\n",
       "      <th>id</th>\n",
       "      <th>t1</th>\n",
       "      <th>t2</th>\n",
       "      <th>type</th>\n",
       "      <th>note</th>\n",
       "    </tr>\n",
       "  </thead>\n",
       "  <tbody>\n",
       "    <tr>\n",
       "      <th>0</th>\n",
       "      <td>1</td>\n",
       "      <td>7</td>\n",
       "      <td>326</td>\n",
       "      <td>plant host|herbivore</td>\n",
       "      <td>None</td>\n",
       "    </tr>\n",
       "    <tr>\n",
       "      <th>1</th>\n",
       "      <td>2</td>\n",
       "      <td>7</td>\n",
       "      <td>342</td>\n",
       "      <td>plant host|herbivore</td>\n",
       "      <td>None</td>\n",
       "    </tr>\n",
       "    <tr>\n",
       "      <th>...</th>\n",
       "      <td>...</td>\n",
       "      <td>...</td>\n",
       "      <td>...</td>\n",
       "      <td>...</td>\n",
       "      <td>...</td>\n",
       "    </tr>\n",
       "    <tr>\n",
       "      <th>929</th>\n",
       "      <td>930</td>\n",
       "      <td>319</td>\n",
       "      <td>1037</td>\n",
       "      <td>plant host|herbivore</td>\n",
       "      <td>None</td>\n",
       "    </tr>\n",
       "    <tr>\n",
       "      <th>930</th>\n",
       "      <td>931</td>\n",
       "      <td>319</td>\n",
       "      <td>752</td>\n",
       "      <td>plant host|herbivore</td>\n",
       "      <td>None</td>\n",
       "    </tr>\n",
       "  </tbody>\n",
       "</table>\n",
       "<p>931 rows × 5 columns</p>\n",
       "</div>"
      ],
      "text/plain": [
       "      id   t1    t2                  type  note\n",
       "0      1    7   326  plant host|herbivore  None\n",
       "1      2    7   342  plant host|herbivore  None\n",
       "..   ...  ...   ...                   ...   ...\n",
       "929  930  319  1037  plant host|herbivore  None\n",
       "930  931  319   752  plant host|herbivore  None\n",
       "\n",
       "[931 rows x 5 columns]"
      ]
     },
     "execution_count": 4,
     "metadata": {},
     "output_type": "execute_result"
    }
   ],
   "source": [
    "df_associate2 = pd.read_sql_table('associate2', engine_mysql)\n",
    "df_associate2"
   ]
  },
  {
   "cell_type": "code",
   "execution_count": 5,
   "metadata": {},
   "outputs": [
    {
     "data": {
      "text/html": [
       "<div>\n",
       "<table border=\"1\" class=\"dataframe\">\n",
       "  <thead>\n",
       "    <tr style=\"text-align: right;\">\n",
       "      <th></th>\n",
       "      <th>id</th>\n",
       "      <th>tid</th>\n",
       "      <th>parent_tid</th>\n",
       "      <th>name</th>\n",
       "      <th>trank</th>\n",
       "      <th>lineage</th>\n",
       "    </tr>\n",
       "  </thead>\n",
       "  <tbody>\n",
       "    <tr>\n",
       "      <th>0</th>\n",
       "      <td>1</td>\n",
       "      <td>6</td>\n",
       "      <td>None</td>\n",
       "      <td>Plantae</td>\n",
       "      <td>kingdom</td>\n",
       "      <td>Plantae</td>\n",
       "    </tr>\n",
       "    <tr>\n",
       "      <th>1</th>\n",
       "      <td>2</td>\n",
       "      <td>7707728</td>\n",
       "      <td>6</td>\n",
       "      <td>Tracheophyta</td>\n",
       "      <td>phylum</td>\n",
       "      <td>Plantae|Tracheophyta</td>\n",
       "    </tr>\n",
       "    <tr>\n",
       "      <th>...</th>\n",
       "      <td>...</td>\n",
       "      <td>...</td>\n",
       "      <td>...</td>\n",
       "      <td>...</td>\n",
       "      <td>...</td>\n",
       "      <td>...</td>\n",
       "    </tr>\n",
       "    <tr>\n",
       "      <th>804</th>\n",
       "      <td>6107</td>\n",
       "      <td>3177662</td>\n",
       "      <td>5014</td>\n",
       "      <td>Eugenia</td>\n",
       "      <td>genus</td>\n",
       "      <td>Plantae|Tracheophyta|Magnoliopsida|Myrtales|My...</td>\n",
       "    </tr>\n",
       "    <tr>\n",
       "      <th>805</th>\n",
       "      <td>6108</td>\n",
       "      <td>7907394</td>\n",
       "      <td>3177662</td>\n",
       "      <td>Eugenia malaccensis</td>\n",
       "      <td>species</td>\n",
       "      <td>Plantae|Tracheophyta|Magnoliopsida|Myrtales|My...</td>\n",
       "    </tr>\n",
       "  </tbody>\n",
       "</table>\n",
       "<p>806 rows × 6 columns</p>\n",
       "</div>"
      ],
      "text/plain": [
       "       id      tid parent_tid                 name    trank  \\\n",
       "0       1        6       None              Plantae  kingdom   \n",
       "1       2  7707728          6         Tracheophyta   phylum   \n",
       "..    ...      ...        ...                  ...      ...   \n",
       "804  6107  3177662       5014              Eugenia    genus   \n",
       "805  6108  7907394    3177662  Eugenia malaccensis  species   \n",
       "\n",
       "                                               lineage  \n",
       "0                                              Plantae  \n",
       "1                                 Plantae|Tracheophyta  \n",
       "..                                                 ...  \n",
       "804  Plantae|Tracheophyta|Magnoliopsida|Myrtales|My...  \n",
       "805  Plantae|Tracheophyta|Magnoliopsida|Myrtales|My...  \n",
       "\n",
       "[806 rows x 6 columns]"
      ]
     },
     "execution_count": 5,
     "metadata": {},
     "output_type": "execute_result"
    }
   ],
   "source": [
    "df_taxon2 = pd.read_sql_table('taxon2', engine_mysql)\n",
    "df_taxon2"
   ]
  },
  {
   "cell_type": "code",
   "execution_count": 6,
   "metadata": {},
   "outputs": [
    {
     "data": {
      "text/html": [
       "<div>\n",
       "<table border=\"1\" class=\"dataframe\">\n",
       "  <thead>\n",
       "    <tr style=\"text-align: right;\">\n",
       "      <th></th>\n",
       "      <th>associate.taxon1</th>\n",
       "      <th>associate.taxon2</th>\n",
       "    </tr>\n",
       "  </thead>\n",
       "  <tbody>\n",
       "    <tr>\n",
       "      <th>0</th>\n",
       "      <td>2315</td>\n",
       "      <td>1932</td>\n",
       "    </tr>\n",
       "    <tr>\n",
       "      <th>1</th>\n",
       "      <td>2429</td>\n",
       "      <td>1932</td>\n",
       "    </tr>\n",
       "    <tr>\n",
       "      <th>...</th>\n",
       "      <td>...</td>\n",
       "      <td>...</td>\n",
       "    </tr>\n",
       "    <tr>\n",
       "      <th>929</th>\n",
       "      <td>2412</td>\n",
       "      <td>1858</td>\n",
       "    </tr>\n",
       "    <tr>\n",
       "      <th>930</th>\n",
       "      <td>2412</td>\n",
       "      <td>2191</td>\n",
       "    </tr>\n",
       "  </tbody>\n",
       "</table>\n",
       "<p>931 rows × 2 columns</p>\n",
       "</div>"
      ],
      "text/plain": [
       "     associate.taxon1  associate.taxon2\n",
       "0                2315              1932\n",
       "1                2429              1932\n",
       "..                ...               ...\n",
       "929              2412              1858\n",
       "930              2412              2191\n",
       "\n",
       "[931 rows x 2 columns]"
      ]
     },
     "execution_count": 6,
     "metadata": {},
     "output_type": "execute_result"
    }
   ],
   "source": [
    "# Get names for t1 and t2 in associate2 table\n",
    "df = df_associate2.merge(right=df_taxon2, left_on='t1', right_on='id')\n",
    "df = df.merge(right=df_taxon2, left_on='t2', right_on='id')\n",
    "df = df[['name_x', 'name_y']]\n",
    "\n",
    "# Replace names with ids from taxon table\n",
    "df_taxon = pd.read_sql_table('taxon', engine_postgres)\n",
    "df = df.merge(df_taxon, left_on='name_x', right_on='name')\n",
    "df = df.merge(df_taxon, left_on='name_y', right_on='name')\n",
    "df = df[['id_x', 'id_y']]\n",
    "df.columns = ['associate.taxon1', 'associate.taxon2']\n",
    "\n",
    "# Write CSV file and display data frame\n",
    "df.to_csv('associate.csv', index=False)\n",
    "df"
   ]
  },
  {
   "cell_type": "markdown",
   "metadata": {},
   "source": [
    "### Create a csv import file for the **names** table."
   ]
  },
  {
   "cell_type": "code",
   "execution_count": 7,
   "metadata": {},
   "outputs": [
    {
     "data": {
      "text/html": [
       "<div>\n",
       "<table border=\"1\" class=\"dataframe\">\n",
       "  <thead>\n",
       "    <tr style=\"text-align: right;\">\n",
       "      <th></th>\n",
       "      <th>id</th>\n",
       "      <th>taxon</th>\n",
       "      <th>synonym</th>\n",
       "    </tr>\n",
       "  </thead>\n",
       "  <tbody>\n",
       "    <tr>\n",
       "      <th>0</th>\n",
       "      <td>1</td>\n",
       "      <td>299</td>\n",
       "      <td>Lycopersicon esculentum</td>\n",
       "    </tr>\n",
       "    <tr>\n",
       "      <th>1</th>\n",
       "      <td>2</td>\n",
       "      <td>353</td>\n",
       "      <td>Trigonops sp.</td>\n",
       "    </tr>\n",
       "    <tr>\n",
       "      <th>...</th>\n",
       "      <td>...</td>\n",
       "      <td>...</td>\n",
       "      <td>...</td>\n",
       "    </tr>\n",
       "    <tr>\n",
       "      <th>38</th>\n",
       "      <td>40</td>\n",
       "      <td>3031</td>\n",
       "      <td>Cyrtopeltis tenuis</td>\n",
       "    </tr>\n",
       "    <tr>\n",
       "      <th>39</th>\n",
       "      <td>41</td>\n",
       "      <td>6096</td>\n",
       "      <td>Saissetia ?oleae</td>\n",
       "    </tr>\n",
       "  </tbody>\n",
       "</table>\n",
       "<p>40 rows × 3 columns</p>\n",
       "</div>"
      ],
      "text/plain": [
       "    id  taxon                  synonym\n",
       "0    1    299  Lycopersicon esculentum\n",
       "1    2    353            Trigonops sp.\n",
       "..  ..    ...                      ...\n",
       "38  40   3031       Cyrtopeltis tenuis\n",
       "39  41   6096         Saissetia ?oleae\n",
       "\n",
       "[40 rows x 3 columns]"
      ]
     },
     "execution_count": 7,
     "metadata": {},
     "output_type": "execute_result"
    }
   ],
   "source": [
    "pd.read_sql_table('syn', engine_mysql)"
   ]
  },
  {
   "cell_type": "code",
   "execution_count": 8,
   "metadata": {},
   "outputs": [
    {
     "data": {
      "text/html": [
       "<div>\n",
       "<table border=\"1\" class=\"dataframe\">\n",
       "  <thead>\n",
       "    <tr style=\"text-align: right;\">\n",
       "      <th></th>\n",
       "      <th>id</th>\n",
       "      <th>t1</th>\n",
       "      <th>name</th>\n",
       "      <th>source</th>\n",
       "    </tr>\n",
       "  </thead>\n",
       "  <tbody>\n",
       "    <tr>\n",
       "      <th>0</th>\n",
       "      <td>1</td>\n",
       "      <td>1954</td>\n",
       "      <td>Epilachna Dejean, 1835</td>\n",
       "      <td>http://api.gbif.org/v1/species/1043619/synonyms</td>\n",
       "    </tr>\n",
       "    <tr>\n",
       "      <th>1</th>\n",
       "      <td>2</td>\n",
       "      <td>2829</td>\n",
       "      <td>Hasticollinum Kaszab, 1939</td>\n",
       "      <td>http://api.gbif.org/v1/species/1045882/synonyms</td>\n",
       "    </tr>\n",
       "    <tr>\n",
       "      <th>...</th>\n",
       "      <td>...</td>\n",
       "      <td>...</td>\n",
       "      <td>...</td>\n",
       "      <td>...</td>\n",
       "    </tr>\n",
       "    <tr>\n",
       "      <th>3170</th>\n",
       "      <td>3171</td>\n",
       "      <td>896</td>\n",
       "      <td>Podopidae</td>\n",
       "      <td>http://api.gbif.org/v1/species/9650/synonyms</td>\n",
       "    </tr>\n",
       "    <tr>\n",
       "      <th>3171</th>\n",
       "      <td>3172</td>\n",
       "      <td>890</td>\n",
       "      <td>Plataspididae</td>\n",
       "      <td>http://api.gbif.org/v1/species/9652/synonyms</td>\n",
       "    </tr>\n",
       "  </tbody>\n",
       "</table>\n",
       "<p>3172 rows × 4 columns</p>\n",
       "</div>"
      ],
      "text/plain": [
       "        id    t1                        name  \\\n",
       "0        1  1954      Epilachna Dejean, 1835   \n",
       "1        2  2829  Hasticollinum Kaszab, 1939   \n",
       "...    ...   ...                         ...   \n",
       "3170  3171   896                   Podopidae   \n",
       "3171  3172   890               Plataspididae   \n",
       "\n",
       "                                               source  \n",
       "0     http://api.gbif.org/v1/species/1043619/synonyms  \n",
       "1     http://api.gbif.org/v1/species/1045882/synonyms  \n",
       "...                                               ...  \n",
       "3170     http://api.gbif.org/v1/species/9650/synonyms  \n",
       "3171     http://api.gbif.org/v1/species/9652/synonyms  \n",
       "\n",
       "[3172 rows x 4 columns]"
      ]
     },
     "execution_count": 8,
     "metadata": {},
     "output_type": "execute_result"
    }
   ],
   "source": [
    "pd.read_sql_table('synonym2', engine_mysql)"
   ]
  },
  {
   "cell_type": "code",
   "execution_count": 9,
   "metadata": {},
   "outputs": [
    {
     "data": {
      "text/html": [
       "<div>\n",
       "<table border=\"1\" class=\"dataframe\">\n",
       "  <thead>\n",
       "    <tr style=\"text-align: right;\">\n",
       "      <th></th>\n",
       "      <th>id</th>\n",
       "      <th>t1</th>\n",
       "      <th>language</th>\n",
       "      <th>source</th>\n",
       "      <th>name</th>\n",
       "    </tr>\n",
       "  </thead>\n",
       "  <tbody>\n",
       "    <tr>\n",
       "      <th>0</th>\n",
       "      <td>139</td>\n",
       "      <td>320</td>\n",
       "      <td>eng</td>\n",
       "      <td>http://api.gbif.org/v1/species/1/vernacularNames</td>\n",
       "      <td>Animals</td>\n",
       "    </tr>\n",
       "    <tr>\n",
       "      <th>1</th>\n",
       "      <td>140</td>\n",
       "      <td>1948</td>\n",
       "      <td>eng</td>\n",
       "      <td>http://api.gbif.org/v1/species/1048253/vernacu...</td>\n",
       "      <td>tobacco flea beetle</td>\n",
       "    </tr>\n",
       "    <tr>\n",
       "      <th>...</th>\n",
       "      <td>...</td>\n",
       "      <td>...</td>\n",
       "      <td>...</td>\n",
       "      <td>...</td>\n",
       "      <td>...</td>\n",
       "    </tr>\n",
       "    <tr>\n",
       "      <th>858</th>\n",
       "      <td>2649</td>\n",
       "      <td>2467</td>\n",
       "      <td></td>\n",
       "      <td>http://api.gbif.org/v1/species/9717/vernacular...</td>\n",
       "      <td>nolid moths</td>\n",
       "    </tr>\n",
       "    <tr>\n",
       "      <th>859</th>\n",
       "      <td>2650</td>\n",
       "      <td>1690</td>\n",
       "      <td>eng</td>\n",
       "      <td>http://api.gbif.org/v1/species/999/vernacularN...</td>\n",
       "      <td>termites</td>\n",
       "    </tr>\n",
       "  </tbody>\n",
       "</table>\n",
       "<p>860 rows × 5 columns</p>\n",
       "</div>"
      ],
      "text/plain": [
       "       id    t1 language                                             source  \\\n",
       "0     139   320      eng   http://api.gbif.org/v1/species/1/vernacularNames   \n",
       "1     140  1948      eng  http://api.gbif.org/v1/species/1048253/vernacu...   \n",
       "..    ...   ...      ...                                                ...   \n",
       "858  2649  2467           http://api.gbif.org/v1/species/9717/vernacular...   \n",
       "859  2650  1690      eng  http://api.gbif.org/v1/species/999/vernacularN...   \n",
       "\n",
       "                    name  \n",
       "0                Animals  \n",
       "1    tobacco flea beetle  \n",
       "..                   ...  \n",
       "858          nolid moths  \n",
       "859             termites  \n",
       "\n",
       "[860 rows x 5 columns]"
      ]
     },
     "execution_count": 9,
     "metadata": {},
     "output_type": "execute_result"
    }
   ],
   "source": [
    "pd.read_sql_table('vernacular', engine_mysql)"
   ]
  },
  {
   "cell_type": "code",
   "execution_count": 10,
   "metadata": {},
   "outputs": [
    {
     "data": {
      "text/html": [
       "<div>\n",
       "<table border=\"1\" class=\"dataframe\">\n",
       "  <thead>\n",
       "    <tr style=\"text-align: right;\">\n",
       "      <th></th>\n",
       "      <th>id</th>\n",
       "      <th>name_type</th>\n",
       "    </tr>\n",
       "  </thead>\n",
       "  <tbody>\n",
       "    <tr>\n",
       "      <th>0</th>\n",
       "      <td>1</td>\n",
       "      <td>GBIF ID</td>\n",
       "    </tr>\n",
       "    <tr>\n",
       "      <th>1</th>\n",
       "      <td>2</td>\n",
       "      <td>accepted scientific name</td>\n",
       "    </tr>\n",
       "    <tr>\n",
       "      <th>2</th>\n",
       "      <td>3</td>\n",
       "      <td>scientific synonym</td>\n",
       "    </tr>\n",
       "    <tr>\n",
       "      <th>3</th>\n",
       "      <td>4</td>\n",
       "      <td>vernacular</td>\n",
       "    </tr>\n",
       "    <tr>\n",
       "      <th>4</th>\n",
       "      <td>5</td>\n",
       "      <td>scientific mispelling</td>\n",
       "    </tr>\n",
       "    <tr>\n",
       "      <th>5</th>\n",
       "      <td>6</td>\n",
       "      <td>vernacular mispelling</td>\n",
       "    </tr>\n",
       "    <tr>\n",
       "      <th>6</th>\n",
       "      <td>7</td>\n",
       "      <td>vernacular (English)</td>\n",
       "    </tr>\n",
       "    <tr>\n",
       "      <th>7</th>\n",
       "      <td>8</td>\n",
       "      <td>vernacular (Chamorro)</td>\n",
       "    </tr>\n",
       "  </tbody>\n",
       "</table>\n",
       "</div>"
      ],
      "text/plain": [
       "   id                 name_type\n",
       "0   1                   GBIF ID\n",
       "1   2  accepted scientific name\n",
       "2   3        scientific synonym\n",
       "3   4                vernacular\n",
       "4   5     scientific mispelling\n",
       "5   6     vernacular mispelling\n",
       "6   7      vernacular (English)\n",
       "7   8     vernacular (Chamorro)"
      ]
     },
     "execution_count": 10,
     "metadata": {},
     "output_type": "execute_result"
    }
   ],
   "source": [
    "pd.options.display.max_rows = 100\n",
    "pd.read_sql_table('name_type', engine_postgres)"
   ]
  },
  {
   "cell_type": "code",
   "execution_count": 11,
   "metadata": {},
   "outputs": [
    {
     "data": {
      "text/html": [
       "<div>\n",
       "<table border=\"1\" class=\"dataframe\">\n",
       "  <thead>\n",
       "    <tr style=\"text-align: right;\">\n",
       "      <th></th>\n",
       "      <th>id</th>\n",
       "      <th>tid</th>\n",
       "      <th>parent_tid</th>\n",
       "      <th>name</th>\n",
       "      <th>trank</th>\n",
       "      <th>lineage</th>\n",
       "    </tr>\n",
       "  </thead>\n",
       "  <tbody>\n",
       "    <tr>\n",
       "      <th>0</th>\n",
       "      <td>1</td>\n",
       "      <td>6</td>\n",
       "      <td>None</td>\n",
       "      <td>Plantae</td>\n",
       "      <td>kingdom</td>\n",
       "      <td>Plantae</td>\n",
       "    </tr>\n",
       "    <tr>\n",
       "      <th>1</th>\n",
       "      <td>2</td>\n",
       "      <td>7707728</td>\n",
       "      <td>6</td>\n",
       "      <td>Tracheophyta</td>\n",
       "      <td>phylum</td>\n",
       "      <td>Plantae|Tracheophyta</td>\n",
       "    </tr>\n",
       "    <tr>\n",
       "      <th>...</th>\n",
       "      <td>...</td>\n",
       "      <td>...</td>\n",
       "      <td>...</td>\n",
       "      <td>...</td>\n",
       "      <td>...</td>\n",
       "      <td>...</td>\n",
       "    </tr>\n",
       "    <tr>\n",
       "      <th>804</th>\n",
       "      <td>6107</td>\n",
       "      <td>3177662</td>\n",
       "      <td>5014</td>\n",
       "      <td>Eugenia</td>\n",
       "      <td>genus</td>\n",
       "      <td>Plantae|Tracheophyta|Magnoliopsida|Myrtales|My...</td>\n",
       "    </tr>\n",
       "    <tr>\n",
       "      <th>805</th>\n",
       "      <td>6108</td>\n",
       "      <td>7907394</td>\n",
       "      <td>3177662</td>\n",
       "      <td>Eugenia malaccensis</td>\n",
       "      <td>species</td>\n",
       "      <td>Plantae|Tracheophyta|Magnoliopsida|Myrtales|My...</td>\n",
       "    </tr>\n",
       "  </tbody>\n",
       "</table>\n",
       "<p>806 rows × 6 columns</p>\n",
       "</div>"
      ],
      "text/plain": [
       "       id      tid parent_tid                 name    trank  \\\n",
       "0       1        6       None              Plantae  kingdom   \n",
       "1       2  7707728          6         Tracheophyta   phylum   \n",
       "..    ...      ...        ...                  ...      ...   \n",
       "804  6107  3177662       5014              Eugenia    genus   \n",
       "805  6108  7907394    3177662  Eugenia malaccensis  species   \n",
       "\n",
       "                                               lineage  \n",
       "0                                              Plantae  \n",
       "1                                 Plantae|Tracheophyta  \n",
       "..                                                 ...  \n",
       "804  Plantae|Tracheophyta|Magnoliopsida|Myrtales|My...  \n",
       "805  Plantae|Tracheophyta|Magnoliopsida|Myrtales|My...  \n",
       "\n",
       "[806 rows x 6 columns]"
      ]
     },
     "execution_count": 11,
     "metadata": {},
     "output_type": "execute_result"
    }
   ],
   "source": [
    "pd.options.display.max_rows = 4\n",
    "df_taxon2"
   ]
  },
  {
   "cell_type": "code",
   "execution_count": 12,
   "metadata": {},
   "outputs": [
    {
     "data": {
      "text/html": [
       "<div>\n",
       "<table border=\"1\" class=\"dataframe\">\n",
       "  <thead>\n",
       "    <tr style=\"text-align: right;\">\n",
       "      <th></th>\n",
       "      <th>id</th>\n",
       "      <th>parent_id</th>\n",
       "      <th>name</th>\n",
       "      <th>lineage</th>\n",
       "      <th>trank</th>\n",
       "    </tr>\n",
       "  </thead>\n",
       "  <tbody>\n",
       "    <tr>\n",
       "      <th>0</th>\n",
       "      <td>1625</td>\n",
       "      <td>None</td>\n",
       "      <td>Animalia</td>\n",
       "      <td>Animalia</td>\n",
       "      <td>kingdom</td>\n",
       "    </tr>\n",
       "    <tr>\n",
       "      <th>1</th>\n",
       "      <td>1626</td>\n",
       "      <td>1625</td>\n",
       "      <td>Arthropoda</td>\n",
       "      <td>Animalia|Arthropoda</td>\n",
       "      <td>phylum</td>\n",
       "    </tr>\n",
       "    <tr>\n",
       "      <th>...</th>\n",
       "      <td>...</td>\n",
       "      <td>...</td>\n",
       "      <td>...</td>\n",
       "      <td>...</td>\n",
       "      <td>...</td>\n",
       "    </tr>\n",
       "    <tr>\n",
       "      <th>803</th>\n",
       "      <td>2429</td>\n",
       "      <td>2427</td>\n",
       "      <td>Solanum melongena</td>\n",
       "      <td>Plantae|Tracheophyta|Magnoliopsida|Solanales|S...</td>\n",
       "      <td>species</td>\n",
       "    </tr>\n",
       "    <tr>\n",
       "      <th>804</th>\n",
       "      <td>2430</td>\n",
       "      <td>2427</td>\n",
       "      <td>Solanum tuberosum</td>\n",
       "      <td>Plantae|Tracheophyta|Magnoliopsida|Solanales|S...</td>\n",
       "      <td>species</td>\n",
       "    </tr>\n",
       "  </tbody>\n",
       "</table>\n",
       "<p>805 rows × 5 columns</p>\n",
       "</div>"
      ],
      "text/plain": [
       "       id parent_id               name  \\\n",
       "0    1625      None           Animalia   \n",
       "1    1626      1625         Arthropoda   \n",
       "..    ...       ...                ...   \n",
       "803  2429      2427  Solanum melongena   \n",
       "804  2430      2427  Solanum tuberosum   \n",
       "\n",
       "                                               lineage    trank  \n",
       "0                                             Animalia  kingdom  \n",
       "1                                  Animalia|Arthropoda   phylum  \n",
       "..                                                 ...      ...  \n",
       "803  Plantae|Tracheophyta|Magnoliopsida|Solanales|S...  species  \n",
       "804  Plantae|Tracheophyta|Magnoliopsida|Solanales|S...  species  \n",
       "\n",
       "[805 rows x 5 columns]"
      ]
     },
     "execution_count": 12,
     "metadata": {},
     "output_type": "execute_result"
    }
   ],
   "source": [
    "df_taxon"
   ]
  },
  {
   "cell_type": "markdown",
   "metadata": {},
   "source": [
    " **df_lookup** is a lookup table relating the old index, **tid**, which is usually a **GBIF ID**, to **name.taxon**, which is the FK in the **name** table. Note that not all taxa have GBIF IDs. These have have alphanumeric ids."
   ]
  },
  {
   "cell_type": "code",
   "execution_count": 54,
   "metadata": {},
   "outputs": [
    {
     "data": {
      "text/html": [
       "<div>\n",
       "<table border=\"1\" class=\"dataframe\">\n",
       "  <thead>\n",
       "    <tr style=\"text-align: right;\">\n",
       "      <th></th>\n",
       "      <th>new_id</th>\n",
       "      <th>old_id</th>\n",
       "    </tr>\n",
       "  </thead>\n",
       "  <tbody>\n",
       "    <tr>\n",
       "      <th>0</th>\n",
       "      <td>1625</td>\n",
       "      <td>1</td>\n",
       "    </tr>\n",
       "    <tr>\n",
       "      <th>1</th>\n",
       "      <td>1626</td>\n",
       "      <td>54</td>\n",
       "    </tr>\n",
       "    <tr>\n",
       "      <th>...</th>\n",
       "      <td>...</td>\n",
       "      <td>...</td>\n",
       "    </tr>\n",
       "    <tr>\n",
       "      <th>804</th>\n",
       "      <td>2429</td>\n",
       "      <td>2930617</td>\n",
       "    </tr>\n",
       "    <tr>\n",
       "      <th>805</th>\n",
       "      <td>2430</td>\n",
       "      <td>2930262</td>\n",
       "    </tr>\n",
       "  </tbody>\n",
       "</table>\n",
       "<p>806 rows × 2 columns</p>\n",
       "</div>"
      ],
      "text/plain": [
       "     new_id   old_id\n",
       "0      1625        1\n",
       "1      1626       54\n",
       "..      ...      ...\n",
       "804    2429  2930617\n",
       "805    2430  2930262\n",
       "\n",
       "[806 rows x 2 columns]"
      ]
     },
     "execution_count": 54,
     "metadata": {},
     "output_type": "execute_result"
    }
   ],
   "source": [
    "df_lookup = df_taxon.merge(df_taxon2, on='name')\n",
    "df_lookup = df_lookup[['id_x','tid']]\n",
    "df_lookup.columns = ['new_id', 'old_id']\n",
    "df_lookup"
   ]
  },
  {
   "cell_type": "markdown",
   "metadata": {},
   "source": [
    "### name_GBIF.csv"
   ]
  },
  {
   "cell_type": "code",
   "execution_count": 50,
   "metadata": {},
   "outputs": [
    {
     "data": {
      "text/html": [
       "<div>\n",
       "<table border=\"1\" class=\"dataframe\">\n",
       "  <thead>\n",
       "    <tr style=\"text-align: right;\">\n",
       "      <th></th>\n",
       "      <th>name.taxon</th>\n",
       "      <th>name.name</th>\n",
       "      <th>name.name_type</th>\n",
       "    </tr>\n",
       "  </thead>\n",
       "  <tbody>\n",
       "    <tr>\n",
       "      <th>0</th>\n",
       "      <td>1625</td>\n",
       "      <td>1</td>\n",
       "      <td>1</td>\n",
       "    </tr>\n",
       "    <tr>\n",
       "      <th>1</th>\n",
       "      <td>1626</td>\n",
       "      <td>54</td>\n",
       "      <td>1</td>\n",
       "    </tr>\n",
       "    <tr>\n",
       "      <th>...</th>\n",
       "      <td>...</td>\n",
       "      <td>...</td>\n",
       "      <td>...</td>\n",
       "    </tr>\n",
       "    <tr>\n",
       "      <th>804</th>\n",
       "      <td>2429</td>\n",
       "      <td>2930617</td>\n",
       "      <td>1</td>\n",
       "    </tr>\n",
       "    <tr>\n",
       "      <th>805</th>\n",
       "      <td>2430</td>\n",
       "      <td>2930262</td>\n",
       "      <td>1</td>\n",
       "    </tr>\n",
       "  </tbody>\n",
       "</table>\n",
       "<p>806 rows × 3 columns</p>\n",
       "</div>"
      ],
      "text/plain": [
       "     name.taxon name.name  name.name_type\n",
       "0          1625         1               1\n",
       "1          1626        54               1\n",
       "..          ...       ...             ...\n",
       "804        2429   2930617               1\n",
       "805        2430   2930262               1\n",
       "\n",
       "[806 rows x 3 columns]"
      ]
     },
     "execution_count": 50,
     "metadata": {},
     "output_type": "execute_result"
    }
   ],
   "source": [
    "df_GBIF = df_lookup\n",
    "df_GBIF['name.name_type'] = 1\n",
    "df_GBIF.columns = ['name.taxon', 'name.name', 'name.name_type']\n",
    "\n",
    "# Write CSV file and display data frame\n",
    "df.to_csv('name_GBIF.csv', index=False)\n",
    "df_GBIF"
   ]
  },
  {
   "cell_type": "markdown",
   "metadata": {},
   "source": [
    "### name_synonym.csv"
   ]
  },
  {
   "cell_type": "code",
   "execution_count": 55,
   "metadata": {},
   "outputs": [
    {
     "data": {
      "text/html": [
       "<div>\n",
       "<table border=\"1\" class=\"dataframe\">\n",
       "  <thead>\n",
       "    <tr style=\"text-align: right;\">\n",
       "      <th></th>\n",
       "      <th>id</th>\n",
       "      <th>t1</th>\n",
       "      <th>name</th>\n",
       "      <th>source</th>\n",
       "    </tr>\n",
       "  </thead>\n",
       "  <tbody>\n",
       "    <tr>\n",
       "      <th>0</th>\n",
       "      <td>1</td>\n",
       "      <td>1954</td>\n",
       "      <td>Epilachna Dejean, 1835</td>\n",
       "      <td>http://api.gbif.org/v1/species/1043619/synonyms</td>\n",
       "    </tr>\n",
       "    <tr>\n",
       "      <th>1</th>\n",
       "      <td>2</td>\n",
       "      <td>2829</td>\n",
       "      <td>Hasticollinum Kaszab, 1939</td>\n",
       "      <td>http://api.gbif.org/v1/species/1045882/synonyms</td>\n",
       "    </tr>\n",
       "    <tr>\n",
       "      <th>...</th>\n",
       "      <td>...</td>\n",
       "      <td>...</td>\n",
       "      <td>...</td>\n",
       "      <td>...</td>\n",
       "    </tr>\n",
       "    <tr>\n",
       "      <th>3170</th>\n",
       "      <td>3171</td>\n",
       "      <td>896</td>\n",
       "      <td>Podopidae</td>\n",
       "      <td>http://api.gbif.org/v1/species/9650/synonyms</td>\n",
       "    </tr>\n",
       "    <tr>\n",
       "      <th>3171</th>\n",
       "      <td>3172</td>\n",
       "      <td>890</td>\n",
       "      <td>Plataspididae</td>\n",
       "      <td>http://api.gbif.org/v1/species/9652/synonyms</td>\n",
       "    </tr>\n",
       "  </tbody>\n",
       "</table>\n",
       "<p>3172 rows × 4 columns</p>\n",
       "</div>"
      ],
      "text/plain": [
       "        id    t1                        name  \\\n",
       "0        1  1954      Epilachna Dejean, 1835   \n",
       "1        2  2829  Hasticollinum Kaszab, 1939   \n",
       "...    ...   ...                         ...   \n",
       "3170  3171   896                   Podopidae   \n",
       "3171  3172   890               Plataspididae   \n",
       "\n",
       "                                               source  \n",
       "0     http://api.gbif.org/v1/species/1043619/synonyms  \n",
       "1     http://api.gbif.org/v1/species/1045882/synonyms  \n",
       "...                                               ...  \n",
       "3170     http://api.gbif.org/v1/species/9650/synonyms  \n",
       "3171     http://api.gbif.org/v1/species/9652/synonyms  \n",
       "\n",
       "[3172 rows x 4 columns]"
      ]
     },
     "execution_count": 55,
     "metadata": {},
     "output_type": "execute_result"
    }
   ],
   "source": [
    "df_synonym = pd.read_sql_table('synonym2', engine_mysql)\n",
    "df_synonym"
   ]
  },
  {
   "cell_type": "code",
   "execution_count": 56,
   "metadata": {},
   "outputs": [
    {
     "data": {
      "text/html": [
       "<div>\n",
       "<table border=\"1\" class=\"dataframe\">\n",
       "  <thead>\n",
       "    <tr style=\"text-align: right;\">\n",
       "      <th></th>\n",
       "      <th>id</th>\n",
       "      <th>t1</th>\n",
       "      <th>name</th>\n",
       "      <th>source</th>\n",
       "      <th>new_id</th>\n",
       "      <th>old_id</th>\n",
       "    </tr>\n",
       "  </thead>\n",
       "  <tbody>\n",
       "  </tbody>\n",
       "</table>\n",
       "</div>"
      ],
      "text/plain": [
       "Empty DataFrame\n",
       "Columns: [id, t1, name, source, new_id, old_id]\n",
       "Index: []"
      ]
     },
     "execution_count": 56,
     "metadata": {},
     "output_type": "execute_result"
    }
   ],
   "source": [
    "df_synonym.merge(right=df_lookup, left_on='t1', right_on='old_id')"
   ]
  },
  {
   "cell_type": "markdown",
   "metadata": {},
   "source": [
    "### name_vernacular.csv"
   ]
  },
  {
   "cell_type": "code",
   "execution_count": 34,
   "metadata": {},
   "outputs": [
    {
     "data": {
      "text/html": [
       "<div>\n",
       "<table border=\"1\" class=\"dataframe\">\n",
       "  <thead>\n",
       "    <tr style=\"text-align: right;\">\n",
       "      <th></th>\n",
       "      <th>id</th>\n",
       "      <th>t1</th>\n",
       "      <th>language</th>\n",
       "      <th>source</th>\n",
       "      <th>name</th>\n",
       "      <th>name.taxon</th>\n",
       "      <th>tid</th>\n",
       "    </tr>\n",
       "  </thead>\n",
       "  <tbody>\n",
       "    <tr>\n",
       "      <th>0</th>\n",
       "      <td>140</td>\n",
       "      <td>1948</td>\n",
       "      <td>eng</td>\n",
       "      <td>http://api.gbif.org/v1/species/1048253/vernacu...</td>\n",
       "      <td>tobacco flea beetle</td>\n",
       "      <td>1948</td>\n",
       "      <td>7908854</td>\n",
       "    </tr>\n",
       "    <tr>\n",
       "      <th>1</th>\n",
       "      <td>141</td>\n",
       "      <td>2102</td>\n",
       "      <td>eng</td>\n",
       "      <td>http://api.gbif.org/v1/species/1080274/vernacu...</td>\n",
       "      <td>Mango flower beetle</td>\n",
       "      <td>2102</td>\n",
       "      <td>2007333</td>\n",
       "    </tr>\n",
       "    <tr>\n",
       "      <th>...</th>\n",
       "      <td>...</td>\n",
       "      <td>...</td>\n",
       "      <td>...</td>\n",
       "      <td>...</td>\n",
       "      <td>...</td>\n",
       "      <td>...</td>\n",
       "      <td>...</td>\n",
       "    </tr>\n",
       "    <tr>\n",
       "      <th>116</th>\n",
       "      <td>2635</td>\n",
       "      <td>2213</td>\n",
       "      <td>eng</td>\n",
       "      <td>http://api.gbif.org/v1/species/9417/vernacular...</td>\n",
       "      <td>swallowtail butterfly</td>\n",
       "      <td>2213</td>\n",
       "      <td>8868</td>\n",
       "    </tr>\n",
       "    <tr>\n",
       "      <th>117</th>\n",
       "      <td>2650</td>\n",
       "      <td>1690</td>\n",
       "      <td>eng</td>\n",
       "      <td>http://api.gbif.org/v1/species/999/vernacularN...</td>\n",
       "      <td>termites</td>\n",
       "      <td>1690</td>\n",
       "      <td>AM0018</td>\n",
       "    </tr>\n",
       "  </tbody>\n",
       "</table>\n",
       "<p>118 rows × 7 columns</p>\n",
       "</div>"
      ],
      "text/plain": [
       "       id    t1 language                                             source  \\\n",
       "0     140  1948      eng  http://api.gbif.org/v1/species/1048253/vernacu...   \n",
       "1     141  2102      eng  http://api.gbif.org/v1/species/1080274/vernacu...   \n",
       "..    ...   ...      ...                                                ...   \n",
       "116  2635  2213      eng  http://api.gbif.org/v1/species/9417/vernacular...   \n",
       "117  2650  1690      eng  http://api.gbif.org/v1/species/999/vernacularN...   \n",
       "\n",
       "                      name  name.taxon      tid  \n",
       "0      tobacco flea beetle        1948  7908854  \n",
       "1      Mango flower beetle        2102  2007333  \n",
       "..                     ...         ...      ...  \n",
       "116  swallowtail butterfly        2213     8868  \n",
       "117               termites        1690   AM0018  \n",
       "\n",
       "[118 rows x 7 columns]"
      ]
     },
     "execution_count": 34,
     "metadata": {},
     "output_type": "execute_result"
    }
   ],
   "source": [
    "df_vernacular = pd.read_sql_table('vernacular', engine_mysql)\n",
    "df_vernacular.merge(df_lookup, left_on='t1', right_on='name.taxon')\n"
   ]
  },
  {
   "cell_type": "code",
   "execution_count": null,
   "metadata": {
    "collapsed": true
   },
   "outputs": [],
   "source": []
  }
 ],
 "metadata": {
  "kernelspec": {
   "display_name": "Python 2",
   "language": "python",
   "name": "python2"
  },
  "language_info": {
   "codemirror_mode": {
    "name": "ipython",
    "version": 2
   },
   "file_extension": ".py",
   "mimetype": "text/x-python",
   "name": "python",
   "nbconvert_exporter": "python",
   "pygments_lexer": "ipython2",
   "version": "2.7.13"
  }
 },
 "nbformat": 4,
 "nbformat_minor": 1
}
