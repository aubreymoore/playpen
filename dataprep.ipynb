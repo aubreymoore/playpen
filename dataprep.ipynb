{
 "cells": [
  {
   "cell_type": "code",
   "execution_count": 1,
   "metadata": {},
   "outputs": [],
   "source": [
    "import pandas as pd\n",
    "from sqlalchemy import create_engine\n",
    "import getpass\n",
    "\n",
    "pd.options.display.max_rows = 4"
   ]
  },
  {
   "cell_type": "markdown",
   "metadata": {},
   "source": [
    "### Connect to databases.\n",
    "\n",
    "MySQL is the old database hosted on Dreamhost.\n",
    "\n",
    "Postgres is the new database on localhost."
   ]
  },
  {
   "cell_type": "code",
   "execution_count": 2,
   "metadata": {},
   "outputs": [
    {
     "name": "stdout",
     "output_type": "stream",
     "text": [
      "Database password: ········\n"
     ]
    }
   ],
   "source": [
    "password = getpass.getpass('Database password: ')"
   ]
  },
  {
   "cell_type": "code",
   "execution_count": 7,
   "metadata": {},
   "outputs": [
    {
     "name": "stdout",
     "output_type": "stream",
     "text": [
      "postgres\n",
      "[u'associate2', u'auth_cas', u'auth_event', u'auth_group', u'auth_membership', u'auth_permission', u'auth_user', u'bugwood', u'extracted_names', u'factsheet', u'location_recode', u'pacific_pests', u'resolved_names', u'syn', u'synonym2', u'taxon2', u'vernacular', u'test', u'person', u'old_new', u'taxon_temp', u'associate_temp', u'image', u'tax', u'name_biblio', u'biblio', u'biblio_type', u'taxonx', u'associate', u'xgeo', u'geo', u'name_type', u'name', u'geo_biblio', u'name1', u'distribution', u'tax1', u'taxon1', u'taxon']\n",
      "\n",
      "mysql\n",
      "[u'associate2', u'auth_cas', u'auth_event', u'auth_group', u'auth_membership', u'auth_permission', u'auth_user', u'bugwood', u'extracted_names', u'factsheet', u'geo', u'location_recode', u'pacific_pests', u'resolved_names', u'syn', u'synonym2', u'taxon2', u'vernacular']\n"
     ]
    }
   ],
   "source": [
    "engine_postgres = create_engine('postgres://aubreymoore:{}@localhost/import_test'.format(password))\n",
    "engine_mysql = create_engine('mysql+pymysql://aubreymoore:{}@mysql.guaminsects.net/pestlist'.format(password))\n",
    "\n",
    "print 'postgres'\n",
    "print engine_postgres.table_names()\n",
    "print\n",
    "print 'mysql'\n",
    "print engine_mysql.table_names()\n",
    "#pd.read_sql_table('taxon', engine)"
   ]
  },
  {
   "cell_type": "markdown",
   "metadata": {},
   "source": [
    "### Create a csv import file for the **associate** table."
   ]
  },
  {
   "cell_type": "code",
   "execution_count": 4,
   "metadata": {},
   "outputs": [
    {
     "data": {
      "text/html": [
       "<div>\n",
       "<table border=\"1\" class=\"dataframe\">\n",
       "  <thead>\n",
       "    <tr style=\"text-align: right;\">\n",
       "      <th></th>\n",
       "      <th>id</th>\n",
       "      <th>t1</th>\n",
       "      <th>t2</th>\n",
       "      <th>type</th>\n",
       "      <th>note</th>\n",
       "    </tr>\n",
       "  </thead>\n",
       "  <tbody>\n",
       "    <tr>\n",
       "      <th>0</th>\n",
       "      <td>1</td>\n",
       "      <td>7</td>\n",
       "      <td>326</td>\n",
       "      <td>plant host|herbivore</td>\n",
       "      <td>None</td>\n",
       "    </tr>\n",
       "    <tr>\n",
       "      <th>1</th>\n",
       "      <td>2</td>\n",
       "      <td>7</td>\n",
       "      <td>342</td>\n",
       "      <td>plant host|herbivore</td>\n",
       "      <td>None</td>\n",
       "    </tr>\n",
       "    <tr>\n",
       "      <th>...</th>\n",
       "      <td>...</td>\n",
       "      <td>...</td>\n",
       "      <td>...</td>\n",
       "      <td>...</td>\n",
       "      <td>...</td>\n",
       "    </tr>\n",
       "    <tr>\n",
       "      <th>929</th>\n",
       "      <td>930</td>\n",
       "      <td>319</td>\n",
       "      <td>1037</td>\n",
       "      <td>plant host|herbivore</td>\n",
       "      <td>None</td>\n",
       "    </tr>\n",
       "    <tr>\n",
       "      <th>930</th>\n",
       "      <td>931</td>\n",
       "      <td>319</td>\n",
       "      <td>752</td>\n",
       "      <td>plant host|herbivore</td>\n",
       "      <td>None</td>\n",
       "    </tr>\n",
       "  </tbody>\n",
       "</table>\n",
       "<p>931 rows × 5 columns</p>\n",
       "</div>"
      ],
      "text/plain": [
       "      id   t1    t2                  type  note\n",
       "0      1    7   326  plant host|herbivore  None\n",
       "1      2    7   342  plant host|herbivore  None\n",
       "..   ...  ...   ...                   ...   ...\n",
       "929  930  319  1037  plant host|herbivore  None\n",
       "930  931  319   752  plant host|herbivore  None\n",
       "\n",
       "[931 rows x 5 columns]"
      ]
     },
     "execution_count": 4,
     "metadata": {},
     "output_type": "execute_result"
    }
   ],
   "source": [
    "df_associate2 = pd.read_sql_table('associate2', engine_mysql)\n",
    "df_associate2"
   ]
  },
  {
   "cell_type": "code",
   "execution_count": 5,
   "metadata": {},
   "outputs": [
    {
     "data": {
      "text/html": [
       "<div>\n",
       "<table border=\"1\" class=\"dataframe\">\n",
       "  <thead>\n",
       "    <tr style=\"text-align: right;\">\n",
       "      <th></th>\n",
       "      <th>id</th>\n",
       "      <th>tid</th>\n",
       "      <th>parent_tid</th>\n",
       "      <th>name</th>\n",
       "      <th>trank</th>\n",
       "      <th>lineage</th>\n",
       "    </tr>\n",
       "  </thead>\n",
       "  <tbody>\n",
       "    <tr>\n",
       "      <th>0</th>\n",
       "      <td>1</td>\n",
       "      <td>6</td>\n",
       "      <td>None</td>\n",
       "      <td>Plantae</td>\n",
       "      <td>kingdom</td>\n",
       "      <td>Plantae</td>\n",
       "    </tr>\n",
       "    <tr>\n",
       "      <th>1</th>\n",
       "      <td>2</td>\n",
       "      <td>7707728</td>\n",
       "      <td>6</td>\n",
       "      <td>Tracheophyta</td>\n",
       "      <td>phylum</td>\n",
       "      <td>Plantae|Tracheophyta</td>\n",
       "    </tr>\n",
       "    <tr>\n",
       "      <th>...</th>\n",
       "      <td>...</td>\n",
       "      <td>...</td>\n",
       "      <td>...</td>\n",
       "      <td>...</td>\n",
       "      <td>...</td>\n",
       "      <td>...</td>\n",
       "    </tr>\n",
       "    <tr>\n",
       "      <th>804</th>\n",
       "      <td>6107</td>\n",
       "      <td>3177662</td>\n",
       "      <td>5014</td>\n",
       "      <td>Eugenia</td>\n",
       "      <td>genus</td>\n",
       "      <td>Plantae|Tracheophyta|Magnoliopsida|Myrtales|My...</td>\n",
       "    </tr>\n",
       "    <tr>\n",
       "      <th>805</th>\n",
       "      <td>6108</td>\n",
       "      <td>7907394</td>\n",
       "      <td>3177662</td>\n",
       "      <td>Eugenia malaccensis</td>\n",
       "      <td>species</td>\n",
       "      <td>Plantae|Tracheophyta|Magnoliopsida|Myrtales|My...</td>\n",
       "    </tr>\n",
       "  </tbody>\n",
       "</table>\n",
       "<p>806 rows × 6 columns</p>\n",
       "</div>"
      ],
      "text/plain": [
       "       id      tid parent_tid                 name    trank  \\\n",
       "0       1        6       None              Plantae  kingdom   \n",
       "1       2  7707728          6         Tracheophyta   phylum   \n",
       "..    ...      ...        ...                  ...      ...   \n",
       "804  6107  3177662       5014              Eugenia    genus   \n",
       "805  6108  7907394    3177662  Eugenia malaccensis  species   \n",
       "\n",
       "                                               lineage  \n",
       "0                                              Plantae  \n",
       "1                                 Plantae|Tracheophyta  \n",
       "..                                                 ...  \n",
       "804  Plantae|Tracheophyta|Magnoliopsida|Myrtales|My...  \n",
       "805  Plantae|Tracheophyta|Magnoliopsida|Myrtales|My...  \n",
       "\n",
       "[806 rows x 6 columns]"
      ]
     },
     "execution_count": 5,
     "metadata": {},
     "output_type": "execute_result"
    }
   ],
   "source": [
    "df_taxon2 = pd.read_sql_table('taxon2', engine_mysql)\n",
    "df_taxon2"
   ]
  },
  {
   "cell_type": "code",
   "execution_count": 6,
   "metadata": {},
   "outputs": [
    {
     "data": {
      "text/html": [
       "<div>\n",
       "<table border=\"1\" class=\"dataframe\">\n",
       "  <thead>\n",
       "    <tr style=\"text-align: right;\">\n",
       "      <th></th>\n",
       "      <th>associate.taxon1</th>\n",
       "      <th>associate.taxon2</th>\n",
       "    </tr>\n",
       "  </thead>\n",
       "  <tbody>\n",
       "    <tr>\n",
       "      <th>0</th>\n",
       "      <td>2315</td>\n",
       "      <td>1932</td>\n",
       "    </tr>\n",
       "    <tr>\n",
       "      <th>1</th>\n",
       "      <td>2429</td>\n",
       "      <td>1932</td>\n",
       "    </tr>\n",
       "    <tr>\n",
       "      <th>...</th>\n",
       "      <td>...</td>\n",
       "      <td>...</td>\n",
       "    </tr>\n",
       "    <tr>\n",
       "      <th>929</th>\n",
       "      <td>2412</td>\n",
       "      <td>1858</td>\n",
       "    </tr>\n",
       "    <tr>\n",
       "      <th>930</th>\n",
       "      <td>2412</td>\n",
       "      <td>2191</td>\n",
       "    </tr>\n",
       "  </tbody>\n",
       "</table>\n",
       "<p>931 rows × 2 columns</p>\n",
       "</div>"
      ],
      "text/plain": [
       "     associate.taxon1  associate.taxon2\n",
       "0                2315              1932\n",
       "1                2429              1932\n",
       "..                ...               ...\n",
       "929              2412              1858\n",
       "930              2412              2191\n",
       "\n",
       "[931 rows x 2 columns]"
      ]
     },
     "execution_count": 6,
     "metadata": {},
     "output_type": "execute_result"
    }
   ],
   "source": [
    "# Get names for t1 and t2 in associate2 table\n",
    "df = df_associate2.merge(right=df_taxon2, left_on='t1', right_on='id')\n",
    "df = df.merge(right=df_taxon2, left_on='t2', right_on='id')\n",
    "df = df[['name_x', 'name_y']]\n",
    "\n",
    "# Replace names with ids from taxon table\n",
    "df_taxon = pd.read_sql_table('taxon', engine_postgres)\n",
    "df = df.merge(df_taxon, left_on='name_x', right_on='name')\n",
    "df = df.merge(df_taxon, left_on='name_y', right_on='name')\n",
    "df = df[['id_x', 'id_y']]\n",
    "df.columns = ['associate.taxon1', 'associate.taxon2']\n",
    "\n",
    "# Write CSV file and display data frame\n",
    "df.to_csv('associate.csv', index=False)\n",
    "df"
   ]
  },
  {
   "cell_type": "markdown",
   "metadata": {},
   "source": [
    "### Create a csv import file for the **image** table."
   ]
  },
  {
   "cell_type": "code",
   "execution_count": null,
   "metadata": {
    "collapsed": true
   },
   "outputs": [],
   "source": []
  }
 ],
 "metadata": {
  "kernelspec": {
   "display_name": "Python 2",
   "language": "python",
   "name": "python2"
  },
  "language_info": {
   "codemirror_mode": {
    "name": "ipython",
    "version": 2
   },
   "file_extension": ".py",
   "mimetype": "text/x-python",
   "name": "python",
   "nbconvert_exporter": "python",
   "pygments_lexer": "ipython2",
   "version": "2.7.13"
  }
 },
 "nbformat": 4,
 "nbformat_minor": 1
}
